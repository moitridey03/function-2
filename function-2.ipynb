{
 "cells": [
  {
   "cell_type": "markdown",
   "id": "8ce78258-fe62-4753-ac84-f65d671bf53d",
   "metadata": {},
   "source": [
    "Q1. Create a python program to sort the given list of tuples based on integer value using a\n",
    "lambda function.\n",
    "[('Sachin Tendulkar', 34357), ('Ricky Ponting', 27483), ('Jack Kallis', 25534), ('Virat Kohli', 24936)]"
   ]
  },
  {
   "cell_type": "markdown",
   "id": "f196a0a2-0cf9-4a29-8b8e-5efbc2e3cbb6",
   "metadata": {},
   "source": [
    "he sorted() function along with a lambda function to sort the list of tuples based on the integer value. Here's a Python program to achieve this:"
   ]
  },
  {
   "cell_type": "code",
   "execution_count": null,
   "id": "f2348a0d-cfa8-4dbb-b6a8-ab04fac550fa",
   "metadata": {},
   "outputs": [],
   "source": []
  },
  {
   "cell_type": "markdown",
   "id": "9aa5139a-632a-4219-a3e9-1671c26024ac",
   "metadata": {},
   "source": [
    "This program sorts the list of tuples based on the second element (integer value) in each tuple using a lambda function as the sorting key. The sorted list is then printed.\n",
    "\n",
    "\n",
    "\n",
    "\n"
   ]
  },
  {
   "cell_type": "markdown",
   "id": "982da4e0-5e15-456f-b80f-e876410b77a1",
   "metadata": {},
   "source": [
    "Q2. Write a Python Program to find the squares of all the numbers in the given list of integers using\n",
    "lambda and map functions.\n",
    "[1, 2, 3, 4, 5, 6, 7, 8, 9, 10]"
   ]
  },
  {
   "cell_type": "code",
   "execution_count": 5,
   "id": "27a58315-b859-4271-bae2-623e856c01e9",
   "metadata": {},
   "outputs": [
    {
     "name": "stdout",
     "output_type": "stream",
     "text": [
      "Squared numbers: [1, 4, 9, 16, 25, 36, 49, 64, 81, 100]\n"
     ]
    }
   ],
   "source": [
    "# Define the list of integers\n",
    "numbers = [1, 2, 3, 4, 5, 6, 7, 8, 9, 10]\n",
    "\n",
    "# Use lambda function to define the square function\n",
    "square = lambda x: x**2\n",
    "\n",
    "# Use map function to apply the square function to each element in the list\n",
    "squared_numbers = list(map(square, numbers))\n",
    "\n",
    "# Print the squared numbers\n",
    "print(\"Squared numbers:\", squared_numbers)\n"
   ]
  },
  {
   "cell_type": "markdown",
   "id": "3581e1d8-ee92-4a80-8032-82123dbb150b",
   "metadata": {},
   "source": [
    "a Python program that utilizes lambda and map functions to find the squares of all the numbers in the given list of integers:"
   ]
  },
  {
   "cell_type": "markdown",
   "id": "b2bb89a4-0ddf-4685-8d2d-a9461e280cf4",
   "metadata": {},
   "source": [
    "This program defines a lambda function named square that computes the square of its input. It then uses the map() function to apply this lambda function to each element in the given list of integers, resulting in a list of squared numbers. Finally, it prints both the original list and the list of squared numbers for comparison."
   ]
  },
  {
   "cell_type": "markdown",
   "id": "de706d1a-67a4-44a1-a32e-8e30cbd60bb2",
   "metadata": {},
   "source": [
    "Q3. Write a python program to convert the given list of integers into a tuple of strings. Use map and\n",
    "lambda functions\n",
    "Given String: [1, 2, 3, 4, 5, 6, 7, 8, 9, 10]\n",
    "Expected output: ('1', '2', '3', '4', '5', '6', '7', '8', '9', '10')"
   ]
  },
  {
   "cell_type": "code",
   "execution_count": 1,
   "id": "2e4707e3-d1fb-4b11-a1ac-acd4c23a0236",
   "metadata": {},
   "outputs": [
    {
     "name": "stdout",
     "output_type": "stream",
     "text": [
      "('1', '2', '3', '4', '5', '6', '7', '8', '9', '10')\n"
     ]
    }
   ],
   "source": [
    "# Given list of integers\n",
    "integer_list = [1, 2, 3, 4, 5, 6, 7, 8, 9, 10]\n",
    "\n",
    "# Convert the list of integers into a tuple of strings using map and lambda\n",
    "string_tuple = tuple(map(lambda x: str(x), integer_list))\n",
    "\n",
    "# Print the resulting tuple\n",
    "print(string_tuple)\n"
   ]
  },
  {
   "cell_type": "markdown",
   "id": "8718104b-d54c-490d-88c7-d39b847f4c34",
   "metadata": {},
   "source": [
    "Q4. Write a python program using reduce function to compute the product of a list containing numbers\n",
    "from 1 to 25."
   ]
  },
  {
   "cell_type": "code",
   "execution_count": 2,
   "id": "8bfbccb3-6721-477e-99f1-c74d4807ad3d",
   "metadata": {},
   "outputs": [
    {
     "name": "stdout",
     "output_type": "stream",
     "text": [
      "The product of the list containing numbers from 1 to 25 is: 15511210043330985984000000\n"
     ]
    }
   ],
   "source": [
    "from functools import reduce\n",
    "\n",
    "# Define a function to compute the product of two numbers\n",
    "def multiply(x, y):\n",
    "    return x * y\n",
    "\n",
    "# Create a list containing numbers from 1 to 25\n",
    "numbers = list(range(1, 26))\n",
    "\n",
    "# Use the reduce function to compute the product of the list\n",
    "product = reduce(multiply, numbers)\n",
    "\n",
    "# Print the result\n",
    "print(\"The product of the list containing numbers from 1 to 25 is:\", product)\n"
   ]
  },
  {
   "cell_type": "markdown",
   "id": "64b5b597-5549-4313-940f-afb283bcd7e2",
   "metadata": {},
   "source": [
    "Q5. Write a python program to filter the numbers in a given list that are divisible by 2 and 3 using the\n",
    "filter function.\n",
    "[2, 3, 6, 9, 27, 60, 90, 120, 55, 46]"
   ]
  },
  {
   "cell_type": "code",
   "execution_count": 3,
   "id": "f7d6b650-6b47-483f-8a3d-d965cb62d320",
   "metadata": {},
   "outputs": [
    {
     "name": "stdout",
     "output_type": "stream",
     "text": [
      "Numbers divisible by both 2 and 3: [6, 60, 90, 120]\n"
     ]
    }
   ],
   "source": [
    "# Given list\n",
    "numbers = [2, 3, 6, 9, 27, 60, 90, 120, 55, 46]\n",
    "\n",
    "# Define a function to check if a number is divisible by both 2 and 3\n",
    "def divisible_by_2_and_3(number):\n",
    "    return number % 2 == 0 and number % 3 == 0\n",
    "\n",
    "# Use filter() function to filter numbers in the list\n",
    "filtered_numbers = list(filter(divisible_by_2_and_3, numbers))\n",
    "\n",
    "# Print the filtered numbers\n",
    "print(\"Numbers divisible by both 2 and 3:\", filtered_numbers)\n"
   ]
  },
  {
   "cell_type": "markdown",
   "id": "fd1c0132-e5a8-4089-92b3-8af1847638e4",
   "metadata": {},
   "source": [
    "Q6. Write a python program to find palindromes in the given list of strings using lambda and filter\n",
    "function.\n",
    "['python', 'php', 'aba', 'radar', 'level']"
   ]
  },
  {
   "cell_type": "code",
   "execution_count": 4,
   "id": "d284faf7-5311-4475-be98-d59aae9446e9",
   "metadata": {},
   "outputs": [
    {
     "name": "stdout",
     "output_type": "stream",
     "text": [
      "Palindromes in the list: ['php', 'aba', 'radar', 'level']\n"
     ]
    }
   ],
   "source": [
    "# Define a function to check if a string is a palindrome\n",
    "is_palindrome = lambda s: s == s[::-1]\n",
    "\n",
    "# Given list of strings\n",
    "strings = ['python', 'php', 'aba', 'radar', 'level']\n",
    "\n",
    "# Use filter() with lambda to filter out palindromes\n",
    "palindromes = list(filter(is_palindrome, strings))\n",
    "\n",
    "# Print the palindromes\n",
    "print(\"Palindromes in the list:\", palindromes)\n"
   ]
  },
  {
   "cell_type": "code",
   "execution_count": null,
   "id": "2e7d1c7a-7ea0-4614-8475-898e1e8e7fde",
   "metadata": {},
   "outputs": [],
   "source": []
  }
 ],
 "metadata": {
  "kernelspec": {
   "display_name": "Python 3 (ipykernel)",
   "language": "python",
   "name": "python3"
  },
  "language_info": {
   "codemirror_mode": {
    "name": "ipython",
    "version": 3
   },
   "file_extension": ".py",
   "mimetype": "text/x-python",
   "name": "python",
   "nbconvert_exporter": "python",
   "pygments_lexer": "ipython3",
   "version": "3.10.8"
  }
 },
 "nbformat": 4,
 "nbformat_minor": 5
}
